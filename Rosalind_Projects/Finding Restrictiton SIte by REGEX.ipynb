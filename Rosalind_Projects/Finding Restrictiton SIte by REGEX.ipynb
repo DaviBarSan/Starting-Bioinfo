{
 "cells": [
  {
   "cell_type": "markdown",
   "metadata": {},
   "source": [
    "# Finding Restriction Site by REGEX"
   ]
  },
  {
   "cell_type": "code",
   "execution_count": 5,
   "metadata": {},
   "outputs": [
    {
     "name": "stdout",
     "output_type": "stream",
     "text": [
      "AGTTACGTACGCCCAGATATACGTA\n"
     ]
    }
   ],
   "source": [
    "import re\n",
    "\n",
    "'''\n",
    "To find the restriction site, you must know that occurs in palindrome sequences. \n",
    "Palindrome seq: ATGCAT\n",
    "                ......\n",
    "                TACGTA   They complementary and reverse to each other.\n",
    "\n",
    "'''\n",
    "test = \"TCAATGCATGCGGGTCTATATGCAT\"\n",
    "def complementar_strain(DNAseq):\n",
    "    comp = str(DNAseq.translate(str.maketrans({'A':'T', 'T':'A', 'C':'G', 'G':'C'})))\n",
    "    return comp\n",
    "print(complementar_strain(test))"
   ]
  },
  {
   "cell_type": "code",
   "execution_count": 12,
   "metadata": {},
   "outputs": [
    {
     "name": "stdout",
     "output_type": "stream",
     "text": [
      "ATGCATATAGACCCGCATGCATTGA\n"
     ]
    }
   ],
   "source": [
    "print(complementar_strain(test)[::-1])\n"
   ]
  },
  {
   "cell_type": "code",
   "execution_count": 9,
   "metadata": {},
   "outputs": [
    {
     "data": {
      "text/plain": [
       "['AGTT', 'ACGT', 'AGAT', 'ACGT']"
      ]
     },
     "execution_count": 9,
     "metadata": {},
     "output_type": "execute_result"
    }
   ],
   "source": [
    "re.findall('A..T', complementar_strain(test))"
   ]
  },
  {
   "cell_type": "code",
   "execution_count": null,
   "metadata": {},
   "outputs": [],
   "source": []
  }
 ],
 "metadata": {
  "kernelspec": {
   "display_name": "Python 3",
   "language": "python",
   "name": "python3"
  },
  "language_info": {
   "codemirror_mode": {
    "name": "ipython",
    "version": 3
   },
   "file_extension": ".py",
   "mimetype": "text/x-python",
   "name": "python",
   "nbconvert_exporter": "python",
   "pygments_lexer": "ipython3",
   "version": "3.8.5"
  }
 },
 "nbformat": 4,
 "nbformat_minor": 4
}
