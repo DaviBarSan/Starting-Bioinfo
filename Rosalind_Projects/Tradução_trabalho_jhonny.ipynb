{
 "cells": [
  {
   "cell_type": "code",
   "execution_count": 11,
   "metadata": {},
   "outputs": [],
   "source": [
    "tempSeq = 'UAUGCCCUAUAGGGCUUGCCUAUAGAUGCCCGUCACGCGGUACGUAAGAUCA'\n",
    "\n",
    "#M' - START, '*' - STOP // DICIONÁRIO DE CODÕES\n",
    "codons = { \"GCU\": \"A\",     \"GCC\": \"A\",     \"GCA\": \"A\",     \"GCG\": \"A\",\n",
    "    \"UGU\": \"C\",     \"UGC\": \"C\",     \"GAU\": \"D\",     \"GAC\": \"D\",\n",
    "    \"GAA\": \"E\",     \"GAG\": \"E\",     \"UUU\": \"F\",     \"UUC\": \"F\",\n",
    "    \"GGU\": \"G\",     \"GGC\": \"G\",     \"GGA\": \"G\",     \"GGG\": \"G\",\n",
    "    \"CAU\": \"H\",     \"CAC\": \"H\",     \"AUA\": \"I\",     \"AUU\": \"I\",     \n",
    "    \"AUC\": \"I\",     \"AAA\": \"K\",     \"AAG\": \"K\",     \"UUA\": \"L\",\n",
    "    \"UUG\": \"L\",     \"CUU\": \"L\",     \"CUC\": \"L\",     \"CUA\": \"L\", \n",
    "    \"CUG\": \"L\",     \"AUG\": \"M\",     \"AAU\": \"N\",     \"AAC\": \"N\",\n",
    "    \"CCU\": \"P\",     \"CCC\": \"P\",     \"CCA\": \"P\",     \"CCG\": \"P\",\n",
    "    \"CAA\": \"Q\",     \"CAG\": \"Q\",     \"CGU\": \"R\",     \"CGC\": \"R\",\n",
    "    \"CGA\": \"R\",     \"CGG\": \"R\",     \"AGA\": \"R\",     \"AGG\": \"R\",\n",
    "    \"UCU\": \"S\",     \"UCC\": \"S\",     \"UCA\": \"S\",     \"UCG\": \"S\", \n",
    "    \"AGU\": \"S\",     \"AGC\": \"S\",     \"ACU\": \"T\",     \"ACC\": \"T\",     \n",
    "    \"ACA\": \"T\",     \"ACG\": \"T\",     \"GUU\": \"V\",     \"GUC\": \"V\",\n",
    "    \"GUA\": \"V\",     \"GUG\": \"V\",     \"UGG\": \"W\",     \"UAU\": \"Y\",\n",
    "    \"UAC\": \"Y\",     \"UAA\": \"\",     \"UAG\": \"\",     \"UGA\": \"*\" \n",
    "    }\n"
   ]
  },
  {
   "cell_type": "code",
   "execution_count": 12,
   "metadata": {},
   "outputs": [
    {
     "name": "stdout",
     "output_type": "stream",
     "text": [
      "A\n"
     ]
    }
   ],
   "source": [
    "print(codons.get(\"GCU\"))"
   ]
  },
  {
   "cell_type": "code",
   "execution_count": 8,
   "metadata": {},
   "outputs": [],
   "source": [
    "aa_seq = ''\n",
    "\n",
    "def iteratingCodon(seq, protseq):\n",
    "    for i in range(len(tempSeq)-2, 3):\n",
    "            codão = seq[i]\n",
    "            protseq += dict.value(codão)"
   ]
  },
  {
   "cell_type": "code",
   "execution_count": null,
   "metadata": {},
   "outputs": [],
   "source": []
  },
  {
   "cell_type": "code",
   "execution_count": 9,
   "metadata": {},
   "outputs": [],
   "source": [
    "for i in range(len(tempSeq)-2):\n",
    "    codon = tempSeq[i:i+3]\n",
    "    if codon == 'AUG':\n",
    "        aa_seq += codon\n",
    "        iteratingCodon(tempSeq, aa_seq)\n",
    "        "
   ]
  },
  {
   "cell_type": "code",
   "execution_count": 10,
   "metadata": {},
   "outputs": [
    {
     "name": "stdout",
     "output_type": "stream",
     "text": [
      "AUGAUG\n"
     ]
    }
   ],
   "source": [
    "print(aa_seq)"
   ]
  },
  {
   "cell_type": "code",
   "execution_count": null,
   "metadata": {},
   "outputs": [],
   "source": []
  }
 ],
 "metadata": {
  "kernelspec": {
   "display_name": "Python 3",
   "language": "python",
   "name": "python3"
  },
  "language_info": {
   "codemirror_mode": {
    "name": "ipython",
    "version": 3
   },
   "file_extension": ".py",
   "mimetype": "text/x-python",
   "name": "python",
   "nbconvert_exporter": "python",
   "pygments_lexer": "ipython3",
   "version": "3.8.5"
  }
 },
 "nbformat": 4,
 "nbformat_minor": 4
}
